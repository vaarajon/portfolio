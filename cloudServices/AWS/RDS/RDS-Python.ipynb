{
 "cells": [
  {
   "cell_type": "code",
   "execution_count": null,
   "metadata": {},
   "outputs": [],
   "source": [
    "# Access AWS RDS with Python\n",
    "\n",
    "import pymysql\n",
    "\n",
    "db = pymysql.connect(host=\"database-test.******.amazonaws.com\", user=\"*****\", password=\"*****\")\n",
    "cursor = db.cursor()\n",
    "\n",
    "# Drop and Create a table\n",
    "cursor.execute(\"\"\" \n",
    "DROP DATABASE IF EXISTS testDB;\n",
    " \"\"\")\n",
    "\n",
    "cursor.execute(\"\"\" \n",
    "CREATE DATABASE testDB;\n",
    " \"\"\")\n",
    "\n",
    "cursor.execute(\"\"\" \n",
    "USE testDB;\n",
    " \"\"\")\n",
    "\n",
    "# Create a table\n",
    "cursor.execute(\"\"\" \n",
    "CREATE TABLE person (\n",
    "    id int not null auto_increment,\n",
    "    fname text,\n",
    "    lname text,\n",
    "    primary key (id)\n",
    ")\n",
    " \"\"\")\n",
    "\n",
    "# Insert a row into a table\n",
    "cursor.execute(\"\"\" \n",
    "INSERT INTO person(\n",
    "    fname, \n",
    "    lname\n",
    ") \n",
    "\n",
    "VALUES(\n",
    "    \"aku\", \n",
    "    \"ankka\"\n",
    ")\n",
    "\n",
    "\"\"\")\n",
    "\n",
    "cursor.execute(\"\"\" \n",
    "SELECT * FROM person\n",
    " \"\"\")\n",
    "cursor.fetchall()\n",
    "\n"
   ]
  }
 ],
 "metadata": {
  "language_info": {
   "name": "python"
  },
  "orig_nbformat": 4
 },
 "nbformat": 4,
 "nbformat_minor": 2
}
