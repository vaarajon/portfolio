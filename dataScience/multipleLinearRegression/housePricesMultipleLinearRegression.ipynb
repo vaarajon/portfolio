{
 "cells": [
  {
   "cell_type": "code",
   "execution_count": 12,
   "metadata": {},
   "outputs": [
    {
     "name": "stdout",
     "output_type": "stream",
     "text": [
      "<class 'pandas.core.frame.DataFrame'>\n",
      "RangeIndex: 61 entries, 0 to 60\n",
      "Data columns (total 10 columns):\n",
      " #   Column            Non-Null Count  Dtype  \n",
      "---  ------            --------------  -----  \n",
      " 0   neighborhood      61 non-null     object \n",
      " 1   flat              61 non-null     object \n",
      " 2   flatType          61 non-null     object \n",
      " 3   squareMeters      61 non-null     float64\n",
      " 4   price             61 non-null     int64  \n",
      " 5   pricePerSM        61 non-null     int64  \n",
      " 6   constructionYear  61 non-null     int64  \n",
      " 7   floorNumber       61 non-null     int64  \n",
      " 8   elevator          61 non-null     object \n",
      " 9   condition         61 non-null     object \n",
      "dtypes: float64(1), int64(4), object(5)\n",
      "memory usage: 4.9+ KB\n",
      "       squareMeters          price   pricePerSM  constructionYear  floorNumber\n",
      "count     61.000000      61.000000    61.000000         61.000000    61.000000\n",
      "mean      27.903279  101013.672131  3757.278689       2002.819672     3.229508\n",
      "std        4.887636   30624.300294  1393.899065         23.678055     1.296064\n",
      "min       20.000000   38500.000000  1281.000000       1956.000000     1.000000\n",
      "25%       24.000000   75000.000000  2296.000000       1981.000000     2.000000\n",
      "50%       26.000000  119900.000000  4604.000000       2021.000000     3.000000\n",
      "75%       30.000000  124800.000000  5129.000000       2021.000000     4.000000\n",
      "max       45.500000  159000.000000  5835.000000       2022.000000     6.000000\n"
     ]
    },
    {
     "data": {
      "image/png": "[encoded data removed]",
      "text/plain": [
       "<Figure size 432x288 with 2 Axes>"
      ]
     },
     "metadata": {
      "needs_background": "light"
     },
     "output_type": "display_data"
    },
    {
     "name": "stdout",
     "output_type": "stream",
     "text": [
      "R2 score: 0.7235862709196277\n",
      "Mean Absolute Error: 9238.329864022518\n",
      "Mean Squared Error: 205374301.94300127\n",
      "Root Mean Squared Error: 14330.886293003698\n"
     ]
    }
   ],
   "source": [
    "\"\"\" ########################\n",
    "\n",
    "LINEAR REGRESSION USING SKLEARN\n",
    "\n",
    "    Predicts the relationship between multiple variables\n",
    "\n",
    "    Question:\n",
    "    How I could predict the selling price using multiple variables?\n",
    "\n",
    "    Steps for linear regression\n",
    "    1. Create x and y\n",
    "    2. Create Train and Test set\n",
    "    3. Train the model\n",
    "    4. Make prediction\n",
    "    5. Evaluate the model\n",
    "\n",
    "########################### \"\"\"\n",
    "\n",
    "import pandas as pd\n",
    "import matplotlib.pyplot as plt\n",
    "from sklearn.model_selection import train_test_split\n",
    "from sklearn import metrics\n",
    "from sklearn.metrics import r2_score\n",
    "import seaborn as sn\n",
    "from sklearn.linear_model import LinearRegression\n",
    "import numpy as np\n",
    "\n",
    "data = pd.DataFrame(pd.read_csv(\"housePrices.csv\", sep=\"\\;\", decimal=\",\", engine=\"python\"))\n",
    "data.head()\n",
    "\n",
    "# Check the possible null values\n",
    "data.info()\n",
    "print(data.describe())\n",
    "\n",
    "# Create correlation matrix to review correlations\n",
    "corrMatrix = data.corr()\n",
    "sn.heatmap(corrMatrix, cmap=\"Blues\", annot=True)\n",
    "plt.show()\n",
    "\n",
    "# Prepare the data\n",
    "x = data[[\"squareMeters\", \"constructionYear\", \"floorNumber\"]]\n",
    "y = data[\"price\"]\n",
    "\n",
    "# Split the data into training ja test sets\n",
    "x_train, x_test, y_train, y_test = train_test_split(x,y, train_size=0.7,\n",
    "                                                            test_size = 0.3,\n",
    "                                                            random_state=100)\n",
    "\n",
    "# Fit the regression line using sklearn package\n",
    "lr = LinearRegression()\n",
    "lr.fit(x_train, y_train)\n",
    "\n",
    "# Check the coefficients\n",
    "coeff_df = pd.DataFrame(lr.coef_, x.columns, columns=[\"Coefficient\"])\n",
    "coeff_df\n",
    "\n",
    "# Make predictions\n",
    "y_pred = lr.predict(x_test)\n",
    "\n",
    "df_predictions = pd.DataFrame({\"Actual\": y_test, \"Predicted\": y_pred})\n",
    "df_predictions\n",
    "\n",
    "# Evaluate the performance of the algorithm\n",
    "print(\"R2 score:\", r2_score(y_test, y_pred))\n",
    "print(\"Mean Absolute Error:\", metrics.mean_absolute_error(y_test, y_pred)) # MAE\n",
    "print(\"Mean Squared Error:\", metrics.mean_squared_error(y_test, y_pred)) #MSE\n",
    "print(\"Root Mean Squared Error:\", metrics.mean_squared_error(y_test, y_pred, squared=False)) # RMSE\n",
    "\n",
    "\"\"\"\n",
    "USE ERROR METRICS FOR EVALUATION OF THE MODEL PERFORMANCE\n",
    "\n",
    "R2 score is 0.7235 which means that chosen variables explains 72,35% of the apartment's price. In other words\n",
    "approx. 72% of dependent variability can be explained by the model. The model is not perfect but quite robust.\n",
    "\n",
    "The value of root mean squared error is 14330.89 which is approx. 14% of the mean of all prices 101013.67€. The smaller RMSE the better.\n",
    "\n",
    "The mean absolute error is taking the sum of the absolute value of error and is 9238.33 which means the predicted value distance from\n",
    "the real value is 9238.33.\n",
    "\n",
    "Multiple linear regression doesn't predict perfectly the price but gives quite good estimate anyway.\n",
    "\n",
    "\"\"\""
   ]
  },
  {
   "cell_type": "code",
   "execution_count": null,
   "metadata": {},
   "outputs": [],
   "source": []
  }
 ],
 "metadata": {
  "interpreter": {
   "hash": "a7d3b9eb8027db84f39f5833a29f6d0a28a63c171cb11eebd7dd33eafa08f45a"
  },
  "kernelspec": {
   "display_name": "Python 3.9.6 ('data_science_env')",
   "language": "python",
   "name": "python3"
  },
  "language_info": {
   "codemirror_mode": {
    "name": "ipython",
    "version": 3
   },
   "file_extension": ".py",
   "mimetype": "text/x-python",
   "name": "python",
   "nbconvert_exporter": "python",
   "pygments_lexer": "ipython3",
   "version": "3.9.6"
  },
  "orig_nbformat": 4
 },
 "nbformat": 4,
 "nbformat_minor": 2
}
