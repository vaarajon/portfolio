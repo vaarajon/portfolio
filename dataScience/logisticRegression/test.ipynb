{
 "cells": [
  {
   "cell_type": "code",
   "execution_count": null,
   "metadata": {},
   "outputs": [],
   "source": [
    "import pandas as pd\n",
    "import numpy as np\n",
    "from sklearn.linear_model import LogisticRegression\n",
    "from sklearn.metrics import classification_report, confusion_matrix\n",
    "from sklearn.model_selection import train_test_split\n",
    "import matplotlib.pyplot as plt\n",
    "from matplotlib.lines import Line2D\n",
    "\n",
    "data = pd.DataFrame(pd.read_csv(\"logReg_testData.csv\", sep=\"\\;\", decimal=\",\", engine=\"python\"))\n",
    "data.head()\n",
    "\n",
    "# Cleaning the dataset\n",
    "# Check null values/missing values\n",
    "data.isnull().sum()\n",
    "\n",
    "# Calculate metrics for evaluate planning accuracy\n",
    "data = pd.DataFrame({\"MAD\": np.absolute(data[\"salesActual\"]/data[\"salesForecast\"]), \"MAPE\": np.absolute(data[\"salesActual\"]/data[\"salesForecast\"]/data[\"salesActual\"])})\n"
   ]
  }
 ],
 "metadata": {
  "interpreter": {
   "hash": "a7d3b9eb8027db84f39f5833a29f6d0a28a63c171cb11eebd7dd33eafa08f45a"
  },
  "kernelspec": {
   "display_name": "Python 3.9.6 ('data_science_env')",
   "language": "python",
   "name": "python3"
  },
  "language_info": {
   "name": "python",
   "version": "3.9.6"
  },
  "orig_nbformat": 4
 },
 "nbformat": 4,
 "nbformat_minor": 2
}
