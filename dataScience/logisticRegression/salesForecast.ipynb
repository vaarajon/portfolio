{
 "cells": [
  {
   "cell_type": "code",
   "execution_count": 22,
   "metadata": {},
   "outputs": [
    {
     "name": "stdout",
     "output_type": "stream",
     "text": [
      "[[4]]\n"
     ]
    },
    {
     "data": {
      "image/png": "[encoded data removed]",
      "text/plain": [
       "<Figure size 1080x720 with 1 Axes>"
      ]
     },
     "metadata": {
      "needs_background": "light"
     },
     "output_type": "display_data"
    }
   ],
   "source": [
    "\"\"\" ########################\n",
    "\n",
    "LOGISTIC REGRESSION USING SKLEARN\n",
    "\n",
    "    Classify products into two categories based on the sales forecast accuracy.\n",
    "\n",
    "    Questions:\n",
    "    To which products is have to focus on when updating the sales forecast?\n",
    "    On which products the sales forecast is least accurate?\n",
    "    On which product I should double check the sales forecast?\n",
    "\n",
    "    Steps for logistic regression\n",
    "    1. Create x and y\n",
    "    2. Create Train and Test set\n",
    "    3. Train the model\n",
    "    4. Make prediction\n",
    "    5. Evaluate the model\n",
    "\n",
    "########################### \"\"\"\n",
    "\n",
    "import pandas as pd\n",
    "import numpy as np\n",
    "from sklearn.linear_model import LogisticRegression\n",
    "from sklearn.metrics import classification_report, confusion_matrix\n",
    "from sklearn.model_selection import train_test_split\n",
    "import matplotlib.pyplot as plt\n",
    "from matplotlib.lines import Line2D\n",
    "\n",
    "data = pd.DataFrame(pd.read_csv(\"logReg_testData.csv\", sep=\"\\;\", decimal=\",\", engine=\"python\"))\n",
    "data.head()\n",
    "\n",
    "# Cleaning the dataset\n",
    "# Check null values/missing values\n",
    "data.isnull().sum()\n",
    "\n",
    "# Calculate metrics for evaluate planning accuracy\n",
    "# MAD (Mean Absolute Deviation)\n",
    "# MAPE (Mean Absolute Percent Error)\n",
    "data[\"MAD\"] = np.absolute(data[\"salesActual\"]-data[\"salesForecast\"])\n",
    "data[\"MAPE\"] = np.absolute(data[\"MAD\"]/data[\"salesActual\"]*100)\n",
    "\n",
    "# Select only product A\n",
    "data = data[data[\"product\"] == \"A\"]\n",
    "\n",
    "# Feature variables (independent variable)\n",
    "x = data[[\"salesForecast\"]].values\n",
    "#x = data[[\"salesForecast\", \"MAD\", \"MAPE\"]].values\n",
    "\n",
    "# Target variable (dependent variable)\n",
    "y = data[\"isAccepted\"].values\n",
    "\n",
    "# Create train and test set\n",
    "x_train, x_test, y_train, y_test = train_test_split(x,y, train_size=0.7,\n",
    "                                                            test_size=0.3,\n",
    "                                                            random_state=100)\n",
    "\n",
    "# Instantiate the model\n",
    "logreg = LogisticRegression()\n",
    "\n",
    "# Fit the model with data\n",
    "logreg.fit(x_train, y_train)\n",
    "\n",
    "y_pred = logreg.predict(x_test)\n",
    "\n",
    "# Evaluate performance of the model\n",
    "conf_matrix = confusion_matrix(y_test, y_pred)\n",
    "print(conf_matrix)\n",
    "\n",
    "def plot_results(train_targets, predictions):\n",
    "    fig, ax = plt.subplots(figsize=(15, 10))\n",
    "    # removing all borders except bottom\n",
    "    ax.spines['top'].set_visible(False)\n",
    "    ax.spines['right'].set_visible(False)\n",
    "    ax.spines['left'].set_visible(False)\n",
    "    # adding major gridlines\n",
    "    ax.grid(color='grey', linestyle='-', linewidth=0.25, alpha=0.5)\n",
    "    training_colors = ['#4786D1' if target <= 0 else '#F28627' for target in train_targets]\n",
    "    prediction_colors = ['#4786D1' if target <= 0 else '#F28627' for target in predictions]\n",
    "    train_set_len = len(train_targets)\n",
    "    predictions_len = len(predictions)\n",
    "    plt.scatter(np.arange(0, train_set_len), train_targets, color=training_colors, marker='o', s=[5 * train_set_len])\n",
    "    plt.scatter(np.arange(0, predictions_len), predictions, color=prediction_colors, marker='^', s=[20 * predictions_len])\n",
    "    ax.set_xlabel('Observation')\n",
    "    ax.set_ylabel('Target value (sales forecast)')\n",
    "\n",
    "    # Customizing symbols in the legend\n",
    "    legend_items = [Line2D([0], [0], color='#4786D1', markersize=10), \n",
    "        Line2D([0], [0], color='#F28627', markersize=10),\n",
    "        Line2D([0], [0], color='w', marker='o', markerfacecolor='#979797', markeredgecolor='#979797', markersize=10),\n",
    "        Line2D([0], [0], color='w', marker='^', markerfacecolor='#979797', markeredgecolor='#979797', markersize=10)]\n",
    "    # Adding some spacing between each legend row and padding\n",
    "    ax.legend(handles=legend_items,\n",
    "    labels=['Class 0: Not accepted', 'Class 1: Accepted', 'Training set', 'Predictions'],labelspacing=1.5, borderpad=1)\n",
    "    \n",
    "    plt.show()\n",
    "\n",
    "\n",
    "plot_results(y_train, y_pred)\n",
    "\n"
   ]
  },
  {
   "cell_type": "code",
   "execution_count": 17,
   "metadata": {},
   "outputs": [],
   "source": []
  },
  {
   "cell_type": "code",
   "execution_count": 21,
   "metadata": {},
   "outputs": [
    {
     "ename": "NameError",
     "evalue": "name 'plt' is not defined",
     "output_type": "error",
     "traceback": [
      "\u001b[0;31m---------------------------------------------------------------------------\u001b[0m",
      "\u001b[0;31mNameError\u001b[0m                                 Traceback (most recent call last)",
      "\u001b[0;32m/var/folders/06/y2czygyd183fx8y4ynht3g8c0000gn/T/ipykernel_3276/3393667754.py\u001b[0m in \u001b[0;36m<module>\u001b[0;34m\u001b[0m\n\u001b[0;32m----> 1\u001b[0;31m \u001b[0mplot_results\u001b[0m\u001b[0;34m(\u001b[0m\u001b[0my_train\u001b[0m\u001b[0;34m,\u001b[0m \u001b[0my_pred\u001b[0m\u001b[0;34m)\u001b[0m\u001b[0;34m\u001b[0m\u001b[0;34m\u001b[0m\u001b[0m\n\u001b[0m",
      "\u001b[0;32m/var/folders/06/y2czygyd183fx8y4ynht3g8c0000gn/T/ipykernel_3276/357451553.py\u001b[0m in \u001b[0;36mplot_results\u001b[0;34m(train_targets, predictions)\u001b[0m\n\u001b[1;32m      1\u001b[0m \u001b[0;32mdef\u001b[0m \u001b[0mplot_results\u001b[0m\u001b[0;34m(\u001b[0m\u001b[0mtrain_targets\u001b[0m\u001b[0;34m,\u001b[0m \u001b[0mpredictions\u001b[0m\u001b[0;34m)\u001b[0m\u001b[0;34m:\u001b[0m\u001b[0;34m\u001b[0m\u001b[0;34m\u001b[0m\u001b[0m\n\u001b[0;32m----> 2\u001b[0;31m     \u001b[0mfig\u001b[0m\u001b[0;34m,\u001b[0m \u001b[0max\u001b[0m \u001b[0;34m=\u001b[0m \u001b[0mplt\u001b[0m\u001b[0;34m.\u001b[0m\u001b[0msubplots\u001b[0m\u001b[0;34m(\u001b[0m\u001b[0mfigsize\u001b[0m\u001b[0;34m=\u001b[0m\u001b[0;34m(\u001b[0m\u001b[0;36m15\u001b[0m\u001b[0;34m,\u001b[0m\u001b[0;36m10\u001b[0m\u001b[0;34m)\u001b[0m\u001b[0;34m)\u001b[0m\u001b[0;34m\u001b[0m\u001b[0;34m\u001b[0m\u001b[0m\n\u001b[0m\u001b[1;32m      3\u001b[0m     \u001b[0max\u001b[0m\u001b[0;34m.\u001b[0m\u001b[0mspines\u001b[0m\u001b[0;34m[\u001b[0m\u001b[0;34m\"top\"\u001b[0m\u001b[0;34m]\u001b[0m\u001b[0;34m.\u001b[0m\u001b[0mset_visible\u001b[0m\u001b[0;34m(\u001b[0m\u001b[0;32mFalse\u001b[0m\u001b[0;34m)\u001b[0m\u001b[0;34m\u001b[0m\u001b[0;34m\u001b[0m\u001b[0m\n\u001b[1;32m      4\u001b[0m     \u001b[0max\u001b[0m\u001b[0;34m.\u001b[0m\u001b[0mspines\u001b[0m\u001b[0;34m[\u001b[0m\u001b[0;34m'right'\u001b[0m\u001b[0;34m]\u001b[0m\u001b[0;34m.\u001b[0m\u001b[0mset_visible\u001b[0m\u001b[0;34m(\u001b[0m\u001b[0;32mFalse\u001b[0m\u001b[0;34m)\u001b[0m\u001b[0;34m\u001b[0m\u001b[0;34m\u001b[0m\u001b[0m\n\u001b[1;32m      5\u001b[0m     \u001b[0max\u001b[0m\u001b[0;34m.\u001b[0m\u001b[0mspines\u001b[0m\u001b[0;34m[\u001b[0m\u001b[0;34m'left'\u001b[0m\u001b[0;34m]\u001b[0m\u001b[0;34m.\u001b[0m\u001b[0mset_visible\u001b[0m\u001b[0;34m(\u001b[0m\u001b[0;32mFalse\u001b[0m\u001b[0;34m)\u001b[0m\u001b[0;34m\u001b[0m\u001b[0;34m\u001b[0m\u001b[0m\n",
      "\u001b[0;31mNameError\u001b[0m: name 'plt' is not defined"
     ]
    }
   ],
   "source": []
  },
  {
   "cell_type": "code",
   "execution_count": null,
   "metadata": {},
   "outputs": [],
   "source": []
  }
 ],
 "metadata": {
  "interpreter": {
   "hash": "a7d3b9eb8027db84f39f5833a29f6d0a28a63c171cb11eebd7dd33eafa08f45a"
  },
  "kernelspec": {
   "display_name": "Python 3.9.6 ('data_science_env')",
   "language": "python",
   "name": "python3"
  },
  "language_info": {
   "codemirror_mode": {
    "name": "ipython",
    "version": 3
   },
   "file_extension": ".py",
   "mimetype": "text/x-python",
   "name": "python",
   "nbconvert_exporter": "python",
   "pygments_lexer": "ipython3",
   "version": "3.9.6"
  },
  "orig_nbformat": 4
 },
 "nbformat": 4,
 "nbformat_minor": 2
}
