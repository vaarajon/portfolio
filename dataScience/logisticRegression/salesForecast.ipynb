{
 "cells": [
  {
   "cell_type": "code",
   "execution_count": 1,
   "metadata": {},
   "outputs": [
    {
     "data": {
      "text/plain": [
       "year             0\n",
       "month            0\n",
       "product          0\n",
       "salesForecast    0\n",
       "salesActual      0\n",
       "forecastError    0\n",
       "isAccepted       0\n",
       "isCritical       0\n",
       "isMonthly        0\n",
       "dtype: int64"
      ]
     },
     "execution_count": 1,
     "metadata": {},
     "output_type": "execute_result"
    }
   ],
   "source": [
    "\"\"\" ########################\n",
    "\n",
    "LOGISTIC REGRESSION USING SKLEARN\n",
    "\n",
    "    Classify products into two categories based on the sales forecast accuracy.\n",
    "\n",
    "    Questions:\n",
    "    To which products is have to focus on when updating the sales forecast?\n",
    "    On which products the sales forecast is least accurate?\n",
    "    On which product I should double check the sales forecast?\n",
    "\n",
    "    Steps for logistic regression\n",
    "    1. Create x and y\n",
    "    2. Create Train and Test set\n",
    "    3. Train the model\n",
    "    4. Make prediction\n",
    "    5. Evaluate the model\n",
    "\n",
    "########################### \"\"\"\n",
    "\n",
    "import pandas as pd\n",
    "\n",
    "\n",
    "\n",
    "\n",
    "data = pd.read_csv(\"logReg_testData.csv\", sep=\"\\;\", decimal=\",\", engine=\"python\")\n",
    "data.head()\n",
    "\n",
    "# Cleaning the dataset\n",
    "# Check null values/missing values\n",
    "data.isnull().sum()\n",
    "\n",
    "\n",
    "\n",
    "\n"
   ]
  },
  {
   "cell_type": "code",
   "execution_count": null,
   "metadata": {},
   "outputs": [],
   "source": []
  }
 ],
 "metadata": {
  "interpreter": {
   "hash": "a7d3b9eb8027db84f39f5833a29f6d0a28a63c171cb11eebd7dd33eafa08f45a"
  },
  "kernelspec": {
   "display_name": "Python 3.9.6 ('data_science_env')",
   "language": "python",
   "name": "python3"
  },
  "language_info": {
   "codemirror_mode": {
    "name": "ipython",
    "version": 3
   },
   "file_extension": ".py",
   "mimetype": "text/x-python",
   "name": "python",
   "nbconvert_exporter": "python",
   "pygments_lexer": "ipython3",
   "version": "3.9.6"
  },
  "orig_nbformat": 4
 },
 "nbformat": 4,
 "nbformat_minor": 2
}
